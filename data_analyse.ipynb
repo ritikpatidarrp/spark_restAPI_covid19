{
 "cells": [
  {
   "cell_type": "code",
   "execution_count": 1,
   "metadata": {},
   "outputs": [
    {
     "name": "stdout",
     "output_type": "stream",
     "text": [
      "Requirement already satisfied: pyarrow in /Library/Frameworks/Python.framework/Versions/3.12/lib/python3.12/site-packages (15.0.2)\n",
      "Requirement already satisfied: numpy<2,>=1.16.6 in /Library/Frameworks/Python.framework/Versions/3.12/lib/python3.12/site-packages (from pyarrow) (1.26.4)\n",
      "\n",
      "\u001b[1m[\u001b[0m\u001b[34;49mnotice\u001b[0m\u001b[1;39;49m]\u001b[0m\u001b[39;49m A new release of pip is available: \u001b[0m\u001b[31;49m23.2.1\u001b[0m\u001b[39;49m -> \u001b[0m\u001b[32;49m24.0\u001b[0m\n",
      "\u001b[1m[\u001b[0m\u001b[34;49mnotice\u001b[0m\u001b[1;39;49m]\u001b[0m\u001b[39;49m To update, run: \u001b[0m\u001b[32;49mpip3 install --upgrade pip\u001b[0m\n"
     ]
    }
   ],
   "source": [
    "!pip3 install pyarrow"
   ]
  },
  {
   "cell_type": "code",
   "execution_count": 2,
   "metadata": {},
   "outputs": [],
   "source": [
    "from pyspark.sql import SparkSession\n",
    "from pyspark.sql.functions import *\n",
    "from http.server import BaseHTTPRequestHandler, HTTPServer\n",
    "import json\n",
    "import pandas as pd"
   ]
  },
  {
   "cell_type": "code",
   "execution_count": 3,
   "metadata": {},
   "outputs": [
    {
     "name": "stderr",
     "output_type": "stream",
     "text": [
      "Setting default log level to \"WARN\".\n",
      "To adjust logging level use sc.setLogLevel(newLevel). For SparkR, use setLogLevel(newLevel).\n",
      "24/04/04 00:15:12 WARN NativeCodeLoader: Unable to load native-hadoop library for your platform... using builtin-java classes where applicable\n"
     ]
    }
   ],
   "source": [
    "spark = SparkSession.builder.appName(\"Read COVID Data\").getOrCreate()"
   ]
  },
  {
   "cell_type": "code",
   "execution_count": 4,
   "metadata": {},
   "outputs": [
    {
     "name": "stdout",
     "output_type": "stream",
     "text": [
      "+-------------------+--------+------+---------+------------+--------------+\n",
      "|            Country|   Cases|Deaths|Recovered|Active Cases|Critical Cases|\n",
      "+-------------------+--------+------+---------+------------+--------------+\n",
      "|        Afghanistan|  232152|  7985|   210164|       14003|             0|\n",
      "|            Albania|  334863|  3605|   330233|        1025|             0|\n",
      "|            Algeria|  272010|  6881|   183061|       82068|             0|\n",
      "|            Andorra|   48015|   165|        0|       47850|             0|\n",
      "|             Angola|  107327|  1937|   103419|        1971|             0|\n",
      "|           Anguilla|    3904|    12|        0|        3892|             0|\n",
      "|Antigua and Barbuda|    9106|   146|     8954|           6|             0|\n",
      "|          Argentina|10094643|130733|  9963910|           0|             0|\n",
      "|            Armenia|  451831|  8777|   435162|        7892|             0|\n",
      "|              Aruba|   44224|   292|    42438|        1494|             2|\n",
      "|          Australia|11846229| 24360| 11811795|       10074|             9|\n",
      "|            Austria| 6081287| 22542|  6054934|        3811|             0|\n",
      "|         Azerbaijan|  835136| 10400|   824089|         647|             0|\n",
      "|            Bahamas|   38084|   844|    36366|         874|             1|\n",
      "|            Bahrain|  729549|  1574|   727915|          60|             0|\n",
      "|         Bangladesh| 2048914| 29492|        0|     2019422|             0|\n",
      "|           Barbados|  110575|   648|   108647|        1280|             0|\n",
      "|            Belarus|  994037|  7118|   985592|        1327|             0|\n",
      "|            Belgium| 4861523| 34376|  4826361|         786|             0|\n",
      "|             Belize|   71381|   688|        0|       70693|             0|\n",
      "+-------------------+--------+------+---------+------------+--------------+\n",
      "only showing top 20 rows\n",
      "\n"
     ]
    }
   ],
   "source": [
    "df = spark.read.csv('covid_data_countries.csv', header=True, inferSchema=True)\n",
    "\n",
    "# Show DataFrame\n",
    "df.show()"
   ]
  },
  {
   "cell_type": "code",
   "execution_count": 5,
   "metadata": {},
   "outputs": [
    {
     "data": {
      "text/html": [
       "<div>\n",
       "<style scoped>\n",
       "    .dataframe tbody tr th:only-of-type {\n",
       "        vertical-align: middle;\n",
       "    }\n",
       "\n",
       "    .dataframe tbody tr th {\n",
       "        vertical-align: top;\n",
       "    }\n",
       "\n",
       "    .dataframe thead th {\n",
       "        text-align: right;\n",
       "    }\n",
       "</style>\n",
       "<table border=\"1\" class=\"dataframe\">\n",
       "  <thead>\n",
       "    <tr style=\"text-align: right;\">\n",
       "      <th></th>\n",
       "      <th>Country</th>\n",
       "      <th>Cases</th>\n",
       "      <th>Deaths</th>\n",
       "      <th>Recovered</th>\n",
       "      <th>Active Cases</th>\n",
       "      <th>Critical Cases</th>\n",
       "    </tr>\n",
       "  </thead>\n",
       "  <tbody>\n",
       "    <tr>\n",
       "      <th>0</th>\n",
       "      <td>Afghanistan</td>\n",
       "      <td>232152</td>\n",
       "      <td>7985</td>\n",
       "      <td>210164</td>\n",
       "      <td>14003</td>\n",
       "      <td>0</td>\n",
       "    </tr>\n",
       "    <tr>\n",
       "      <th>1</th>\n",
       "      <td>Albania</td>\n",
       "      <td>334863</td>\n",
       "      <td>3605</td>\n",
       "      <td>330233</td>\n",
       "      <td>1025</td>\n",
       "      <td>0</td>\n",
       "    </tr>\n",
       "    <tr>\n",
       "      <th>2</th>\n",
       "      <td>Algeria</td>\n",
       "      <td>272010</td>\n",
       "      <td>6881</td>\n",
       "      <td>183061</td>\n",
       "      <td>82068</td>\n",
       "      <td>0</td>\n",
       "    </tr>\n",
       "    <tr>\n",
       "      <th>3</th>\n",
       "      <td>Andorra</td>\n",
       "      <td>48015</td>\n",
       "      <td>165</td>\n",
       "      <td>0</td>\n",
       "      <td>47850</td>\n",
       "      <td>0</td>\n",
       "    </tr>\n",
       "    <tr>\n",
       "      <th>4</th>\n",
       "      <td>Angola</td>\n",
       "      <td>107327</td>\n",
       "      <td>1937</td>\n",
       "      <td>103419</td>\n",
       "      <td>1971</td>\n",
       "      <td>0</td>\n",
       "    </tr>\n",
       "    <tr>\n",
       "      <th>...</th>\n",
       "      <td>...</td>\n",
       "      <td>...</td>\n",
       "      <td>...</td>\n",
       "      <td>...</td>\n",
       "      <td>...</td>\n",
       "      <td>...</td>\n",
       "    </tr>\n",
       "    <tr>\n",
       "      <th>226</th>\n",
       "      <td>Wallis and Futuna</td>\n",
       "      <td>3550</td>\n",
       "      <td>8</td>\n",
       "      <td>438</td>\n",
       "      <td>3104</td>\n",
       "      <td>0</td>\n",
       "    </tr>\n",
       "    <tr>\n",
       "      <th>227</th>\n",
       "      <td>Western Sahara</td>\n",
       "      <td>10</td>\n",
       "      <td>1</td>\n",
       "      <td>9</td>\n",
       "      <td>0</td>\n",
       "      <td>0</td>\n",
       "    </tr>\n",
       "    <tr>\n",
       "      <th>228</th>\n",
       "      <td>Yemen</td>\n",
       "      <td>11945</td>\n",
       "      <td>2159</td>\n",
       "      <td>9124</td>\n",
       "      <td>662</td>\n",
       "      <td>0</td>\n",
       "    </tr>\n",
       "    <tr>\n",
       "      <th>229</th>\n",
       "      <td>Zambia</td>\n",
       "      <td>349304</td>\n",
       "      <td>4069</td>\n",
       "      <td>341316</td>\n",
       "      <td>3919</td>\n",
       "      <td>0</td>\n",
       "    </tr>\n",
       "    <tr>\n",
       "      <th>230</th>\n",
       "      <td>Zimbabwe</td>\n",
       "      <td>266359</td>\n",
       "      <td>5740</td>\n",
       "      <td>258888</td>\n",
       "      <td>1731</td>\n",
       "      <td>12</td>\n",
       "    </tr>\n",
       "  </tbody>\n",
       "</table>\n",
       "<p>231 rows × 6 columns</p>\n",
       "</div>"
      ],
      "text/plain": [
       "               Country   Cases  Deaths  Recovered  Active Cases  \\\n",
       "0          Afghanistan  232152    7985     210164         14003   \n",
       "1              Albania  334863    3605     330233          1025   \n",
       "2              Algeria  272010    6881     183061         82068   \n",
       "3              Andorra   48015     165          0         47850   \n",
       "4               Angola  107327    1937     103419          1971   \n",
       "..                 ...     ...     ...        ...           ...   \n",
       "226  Wallis and Futuna    3550       8        438          3104   \n",
       "227     Western Sahara      10       1          9             0   \n",
       "228              Yemen   11945    2159       9124           662   \n",
       "229             Zambia  349304    4069     341316          3919   \n",
       "230           Zimbabwe  266359    5740     258888          1731   \n",
       "\n",
       "     Critical Cases  \n",
       "0                 0  \n",
       "1                 0  \n",
       "2                 0  \n",
       "3                 0  \n",
       "4                 0  \n",
       "..              ...  \n",
       "226               0  \n",
       "227               0  \n",
       "228               0  \n",
       "229               0  \n",
       "230              12  \n",
       "\n",
       "[231 rows x 6 columns]"
      ]
     },
     "execution_count": 5,
     "metadata": {},
     "output_type": "execute_result"
    }
   ],
   "source": [
    "pandas_covid_data = df.collect()\n",
    "pandas_covid_data = pd.DataFrame(pandas_covid_data, columns=df.columns)\n",
    "pandas_covid_data"
   ]
  },
  {
   "cell_type": "code",
   "execution_count": 6,
   "metadata": {},
   "outputs": [
    {
     "data": {
      "text/plain": [
       "DataFrame[Country: string, Cases: int, Deaths: int, Recovered: int, Active Cases: int, Critical Cases: int, death_to_cases_ratio: double]"
      ]
     },
     "execution_count": 6,
     "metadata": {},
     "output_type": "execute_result"
    }
   ],
   "source": [
    "def calculate_death_to_cases_ratio(df):\n",
    "    return df.withColumn(\"death_to_cases_ratio\", col(\"Deaths\") / col(\"Cases\"))\n",
    "\n",
    "calculate_death_to_cases_ratio(df)"
   ]
  },
  {
   "cell_type": "code",
   "execution_count": 7,
   "metadata": {},
   "outputs": [
    {
     "name": "stdout",
     "output_type": "stream",
     "text": [
      "Most affected Country: MS Zaandam\n"
     ]
    },
    {
     "data": {
      "text/html": [
       "<div>\n",
       "<style scoped>\n",
       "    .dataframe tbody tr th:only-of-type {\n",
       "        vertical-align: middle;\n",
       "    }\n",
       "\n",
       "    .dataframe tbody tr th {\n",
       "        vertical-align: top;\n",
       "    }\n",
       "\n",
       "    .dataframe thead th {\n",
       "        text-align: right;\n",
       "    }\n",
       "</style>\n",
       "<table border=\"1\" class=\"dataframe\">\n",
       "  <thead>\n",
       "    <tr style=\"text-align: right;\">\n",
       "      <th></th>\n",
       "      <th>Country</th>\n",
       "      <th>Cases</th>\n",
       "      <th>Deaths</th>\n",
       "      <th>Recovered</th>\n",
       "      <th>Active Cases</th>\n",
       "      <th>Critical Cases</th>\n",
       "      <th>death_to_cases_ratio</th>\n",
       "    </tr>\n",
       "  </thead>\n",
       "  <tbody>\n",
       "    <tr>\n",
       "      <th>0</th>\n",
       "      <td>MS Zaandam</td>\n",
       "      <td>9</td>\n",
       "      <td>2</td>\n",
       "      <td>7</td>\n",
       "      <td>0</td>\n",
       "      <td>0</td>\n",
       "      <td>0.222222</td>\n",
       "    </tr>\n",
       "  </tbody>\n",
       "</table>\n",
       "</div>"
      ],
      "text/plain": [
       "      Country  Cases  Deaths  Recovered  Active Cases  Critical Cases  \\\n",
       "0  MS Zaandam      9       2          7             0               0   \n",
       "\n",
       "   death_to_cases_ratio  \n",
       "0              0.222222  "
      ]
     },
     "execution_count": 7,
     "metadata": {},
     "output_type": "execute_result"
    }
   ],
   "source": [
    "# 2.1) Most affected country among all the countries ( total death/total covid cases).\n",
    "def most_affected_country(df):\n",
    "    df_with_ratio = calculate_death_to_cases_ratio(df)\n",
    "    most_affected_country_data = df_with_ratio.orderBy(col(\"death_to_cases_ratio\").desc()).first()\n",
    "    return pd.DataFrame([most_affected_country_data.asDict()])\n",
    "\n",
    "print(\"Most affected Country:\",most_affected_country(df)['Country'][0])\n",
    "most_affected_country(df)"
   ]
  },
  {
   "cell_type": "code",
   "execution_count": 8,
   "metadata": {},
   "outputs": [
    {
     "name": "stdout",
     "output_type": "stream",
     "text": [
      "Least affected Country: Falkland Islands (Malvinas)\n"
     ]
    },
    {
     "data": {
      "text/html": [
       "<div>\n",
       "<style scoped>\n",
       "    .dataframe tbody tr th:only-of-type {\n",
       "        vertical-align: middle;\n",
       "    }\n",
       "\n",
       "    .dataframe tbody tr th {\n",
       "        vertical-align: top;\n",
       "    }\n",
       "\n",
       "    .dataframe thead th {\n",
       "        text-align: right;\n",
       "    }\n",
       "</style>\n",
       "<table border=\"1\" class=\"dataframe\">\n",
       "  <thead>\n",
       "    <tr style=\"text-align: right;\">\n",
       "      <th></th>\n",
       "      <th>Country</th>\n",
       "      <th>Cases</th>\n",
       "      <th>Deaths</th>\n",
       "      <th>Recovered</th>\n",
       "      <th>Active Cases</th>\n",
       "      <th>Critical Cases</th>\n",
       "      <th>death_to_cases_ratio</th>\n",
       "    </tr>\n",
       "  </thead>\n",
       "  <tbody>\n",
       "    <tr>\n",
       "      <th>0</th>\n",
       "      <td>Falkland Islands (Malvinas)</td>\n",
       "      <td>1930</td>\n",
       "      <td>0</td>\n",
       "      <td>1930</td>\n",
       "      <td>0</td>\n",
       "      <td>0</td>\n",
       "      <td>0.0</td>\n",
       "    </tr>\n",
       "  </tbody>\n",
       "</table>\n",
       "</div>"
      ],
      "text/plain": [
       "                       Country  Cases  Deaths  Recovered  Active Cases  \\\n",
       "0  Falkland Islands (Malvinas)   1930       0       1930             0   \n",
       "\n",
       "   Critical Cases  death_to_cases_ratio  \n",
       "0               0                   0.0  "
      ]
     },
     "execution_count": 8,
     "metadata": {},
     "output_type": "execute_result"
    }
   ],
   "source": [
    "# 2.2) Least affected country among all the countries ( total death/total covid cases).\n",
    "def least_affected_country(df):\n",
    "    df_with_ratio = calculate_death_to_cases_ratio(df)\n",
    "    least_affected_country_data = df_with_ratio.orderBy(col(\"death_to_cases_ratio\")).first()\n",
    "    return pd.DataFrame([least_affected_country_data.asDict()])\n",
    "\n",
    "print(\"Least affected Country:\",least_affected_country(df)['Country'][0])\n",
    "least_affected_country(df)"
   ]
  },
  {
   "cell_type": "code",
   "execution_count": 9,
   "metadata": {},
   "outputs": [
    {
     "name": "stdout",
     "output_type": "stream",
     "text": [
      "Country with highest COVID cases: USA\n"
     ]
    },
    {
     "data": {
      "text/html": [
       "<div>\n",
       "<style scoped>\n",
       "    .dataframe tbody tr th:only-of-type {\n",
       "        vertical-align: middle;\n",
       "    }\n",
       "\n",
       "    .dataframe tbody tr th {\n",
       "        vertical-align: top;\n",
       "    }\n",
       "\n",
       "    .dataframe thead th {\n",
       "        text-align: right;\n",
       "    }\n",
       "</style>\n",
       "<table border=\"1\" class=\"dataframe\">\n",
       "  <thead>\n",
       "    <tr style=\"text-align: right;\">\n",
       "      <th></th>\n",
       "      <th>Country</th>\n",
       "      <th>Cases</th>\n",
       "      <th>Deaths</th>\n",
       "      <th>Recovered</th>\n",
       "      <th>Active Cases</th>\n",
       "      <th>Critical Cases</th>\n",
       "    </tr>\n",
       "  </thead>\n",
       "  <tbody>\n",
       "    <tr>\n",
       "      <th>0</th>\n",
       "      <td>USA</td>\n",
       "      <td>111769834</td>\n",
       "      <td>1218856</td>\n",
       "      <td>109712052</td>\n",
       "      <td>838926</td>\n",
       "      <td>1058</td>\n",
       "    </tr>\n",
       "  </tbody>\n",
       "</table>\n",
       "</div>"
      ],
      "text/plain": [
       "  Country      Cases   Deaths  Recovered  Active Cases  Critical Cases\n",
       "0     USA  111769834  1218856  109712052        838926            1058"
      ]
     },
     "execution_count": 9,
     "metadata": {},
     "output_type": "execute_result"
    }
   ],
   "source": [
    "# 2.3) Country with highest covid cases.\n",
    "def country_with_highest_cases(df):\n",
    "    country_highest_cases = df.orderBy(col(\"Cases\").desc()).first()\n",
    "    return pd.DataFrame([country_highest_cases.asDict()])\n",
    "\n",
    "print(\"Country with highest COVID cases:\", country_with_highest_cases(df)['Country'][0])\n",
    "country_with_highest_cases(df)"
   ]
  },
  {
   "cell_type": "code",
   "execution_count": 10,
   "metadata": {},
   "outputs": [
    {
     "name": "stdout",
     "output_type": "stream",
     "text": [
      "Country with minimum COVID cases: MS Zaandam\n"
     ]
    },
    {
     "data": {
      "text/html": [
       "<div>\n",
       "<style scoped>\n",
       "    .dataframe tbody tr th:only-of-type {\n",
       "        vertical-align: middle;\n",
       "    }\n",
       "\n",
       "    .dataframe tbody tr th {\n",
       "        vertical-align: top;\n",
       "    }\n",
       "\n",
       "    .dataframe thead th {\n",
       "        text-align: right;\n",
       "    }\n",
       "</style>\n",
       "<table border=\"1\" class=\"dataframe\">\n",
       "  <thead>\n",
       "    <tr style=\"text-align: right;\">\n",
       "      <th></th>\n",
       "      <th>Country</th>\n",
       "      <th>Cases</th>\n",
       "      <th>Deaths</th>\n",
       "      <th>Recovered</th>\n",
       "      <th>Active Cases</th>\n",
       "      <th>Critical Cases</th>\n",
       "    </tr>\n",
       "  </thead>\n",
       "  <tbody>\n",
       "    <tr>\n",
       "      <th>0</th>\n",
       "      <td>MS Zaandam</td>\n",
       "      <td>9</td>\n",
       "      <td>2</td>\n",
       "      <td>7</td>\n",
       "      <td>0</td>\n",
       "      <td>0</td>\n",
       "    </tr>\n",
       "  </tbody>\n",
       "</table>\n",
       "</div>"
      ],
      "text/plain": [
       "      Country  Cases  Deaths  Recovered  Active Cases  Critical Cases\n",
       "0  MS Zaandam      9       2          7             0               0"
      ]
     },
     "execution_count": 10,
     "metadata": {},
     "output_type": "execute_result"
    }
   ],
   "source": [
    "# 2.4) Country with minimum covid cases.\n",
    "def country_with_minimum_cases(df):\n",
    "    country_minimum_cases = df.orderBy(col(\"Cases\")).first()\n",
    "    return pd.DataFrame([country_minimum_cases.asDict()])\n",
    "\n",
    "print(\"Country with minimum COVID cases:\", country_with_minimum_cases(df)['Country'][0])\n",
    "country_with_minimum_cases(df)"
   ]
  },
  {
   "cell_type": "code",
   "execution_count": 11,
   "metadata": {},
   "outputs": [
    {
     "name": "stdout",
     "output_type": "stream",
     "text": [
      "Total cases: 704609872\n"
     ]
    },
    {
     "data": {
      "text/html": [
       "<div>\n",
       "<style scoped>\n",
       "    .dataframe tbody tr th:only-of-type {\n",
       "        vertical-align: middle;\n",
       "    }\n",
       "\n",
       "    .dataframe tbody tr th {\n",
       "        vertical-align: top;\n",
       "    }\n",
       "\n",
       "    .dataframe thead th {\n",
       "        text-align: right;\n",
       "    }\n",
       "</style>\n",
       "<table border=\"1\" class=\"dataframe\">\n",
       "  <thead>\n",
       "    <tr style=\"text-align: right;\">\n",
       "      <th></th>\n",
       "      <th>total_cases</th>\n",
       "    </tr>\n",
       "  </thead>\n",
       "  <tbody>\n",
       "    <tr>\n",
       "      <th>0</th>\n",
       "      <td>704609872</td>\n",
       "    </tr>\n",
       "  </tbody>\n",
       "</table>\n",
       "</div>"
      ],
      "text/plain": [
       "   total_cases\n",
       "0    704609872"
      ]
     },
     "execution_count": 11,
     "metadata": {},
     "output_type": "execute_result"
    }
   ],
   "source": [
    "# 2.5) Total cases.\n",
    "def total_cases(df):\n",
    "    total_cases = df.selectExpr(\"sum(Cases)\").collect()[0][0]\n",
    "    return pd.DataFrame([{\"total_cases\": total_cases}])\n",
    "\n",
    "print(\"Total cases:\", total_cases(df)['total_cases'][0])\n",
    "total_cases(df)\n"
   ]
  },
  {
   "cell_type": "code",
   "execution_count": 12,
   "metadata": {},
   "outputs": [
    {
     "name": "stdout",
     "output_type": "stream",
     "text": [
      "Country that handled the COVID most efficiently: Falkland Islands (Malvinas)\n"
     ]
    },
    {
     "data": {
      "text/html": [
       "<div>\n",
       "<style scoped>\n",
       "    .dataframe tbody tr th:only-of-type {\n",
       "        vertical-align: middle;\n",
       "    }\n",
       "\n",
       "    .dataframe tbody tr th {\n",
       "        vertical-align: top;\n",
       "    }\n",
       "\n",
       "    .dataframe thead th {\n",
       "        text-align: right;\n",
       "    }\n",
       "</style>\n",
       "<table border=\"1\" class=\"dataframe\">\n",
       "  <thead>\n",
       "    <tr style=\"text-align: right;\">\n",
       "      <th></th>\n",
       "      <th>most_efficient_country</th>\n",
       "    </tr>\n",
       "  </thead>\n",
       "  <tbody>\n",
       "    <tr>\n",
       "      <th>0</th>\n",
       "      <td>Falkland Islands (Malvinas)</td>\n",
       "    </tr>\n",
       "  </tbody>\n",
       "</table>\n",
       "</div>"
      ],
      "text/plain": [
       "        most_efficient_country\n",
       "0  Falkland Islands (Malvinas)"
      ]
     },
     "execution_count": 12,
     "metadata": {},
     "output_type": "execute_result"
    }
   ],
   "source": [
    "\n",
    "# 2.6) Country that handled the covid most efficiently( total recovery/ total covid cases).\n",
    "def most_efficient_country(df):\n",
    "    df_with_ratio = df.withColumn(\"recovery_to_cases_ratio\", col(\"Recovered\") / col(\"Cases\"))\n",
    "    most_efficient_country = df_with_ratio.orderBy(col(\"recovery_to_cases_ratio\").desc()).first()[\"Country\"]\n",
    "    return pd.DataFrame([{\"most_efficient_country\": most_efficient_country}])\n",
    "\n",
    "\n",
    "print(\"Country that handled the COVID most efficiently:\", most_efficient_country(df)['most_efficient_country'][0])\n",
    "most_efficient_country(df)"
   ]
  },
  {
   "cell_type": "code",
   "execution_count": 13,
   "metadata": {},
   "outputs": [
    {
     "name": "stdout",
     "output_type": "stream",
     "text": [
      "Country that handled the COVID least efficiently: Andorra\n"
     ]
    },
    {
     "data": {
      "text/html": [
       "<div>\n",
       "<style scoped>\n",
       "    .dataframe tbody tr th:only-of-type {\n",
       "        vertical-align: middle;\n",
       "    }\n",
       "\n",
       "    .dataframe tbody tr th {\n",
       "        vertical-align: top;\n",
       "    }\n",
       "\n",
       "    .dataframe thead th {\n",
       "        text-align: right;\n",
       "    }\n",
       "</style>\n",
       "<table border=\"1\" class=\"dataframe\">\n",
       "  <thead>\n",
       "    <tr style=\"text-align: right;\">\n",
       "      <th></th>\n",
       "      <th>least_efficient_country</th>\n",
       "    </tr>\n",
       "  </thead>\n",
       "  <tbody>\n",
       "    <tr>\n",
       "      <th>0</th>\n",
       "      <td>Andorra</td>\n",
       "    </tr>\n",
       "  </tbody>\n",
       "</table>\n",
       "</div>"
      ],
      "text/plain": [
       "  least_efficient_country\n",
       "0                 Andorra"
      ]
     },
     "execution_count": 13,
     "metadata": {},
     "output_type": "execute_result"
    }
   ],
   "source": [
    "\n",
    "# 2.7) Country that handled the covid least efficiently( total recovery/ total covid cases).\n",
    "def least_efficient_country(df):\n",
    "    df_with_ratio = df.withColumn(\"recovery_to_cases_ratio\", col(\"Recovered\") / col(\"Cases\"))\n",
    "    least_efficient_country = df_with_ratio.orderBy(col(\"recovery_to_cases_ratio\")).first()[\"Country\"]\n",
    "    return pd.DataFrame([{\"least_efficient_country\": least_efficient_country}])\n",
    "\n",
    "print(\"Country that handled the COVID least efficiently:\", least_efficient_country(df)['least_efficient_country'][0])\n",
    "least_efficient_country(df)\n"
   ]
  },
  {
   "cell_type": "code",
   "execution_count": 14,
   "metadata": {},
   "outputs": [
    {
     "name": "stdout",
     "output_type": "stream",
     "text": [
      "Country least suffering from COVID (least critical cases): Afghanistan\n"
     ]
    },
    {
     "data": {
      "text/html": [
       "<div>\n",
       "<style scoped>\n",
       "    .dataframe tbody tr th:only-of-type {\n",
       "        vertical-align: middle;\n",
       "    }\n",
       "\n",
       "    .dataframe tbody tr th {\n",
       "        vertical-align: top;\n",
       "    }\n",
       "\n",
       "    .dataframe thead th {\n",
       "        text-align: right;\n",
       "    }\n",
       "</style>\n",
       "<table border=\"1\" class=\"dataframe\">\n",
       "  <thead>\n",
       "    <tr style=\"text-align: right;\">\n",
       "      <th></th>\n",
       "      <th>Country</th>\n",
       "      <th>Cases</th>\n",
       "      <th>Deaths</th>\n",
       "      <th>Recovered</th>\n",
       "      <th>Active Cases</th>\n",
       "      <th>Critical Cases</th>\n",
       "    </tr>\n",
       "  </thead>\n",
       "  <tbody>\n",
       "    <tr>\n",
       "      <th>0</th>\n",
       "      <td>Afghanistan</td>\n",
       "      <td>232152</td>\n",
       "      <td>7985</td>\n",
       "      <td>210164</td>\n",
       "      <td>14003</td>\n",
       "      <td>0</td>\n",
       "    </tr>\n",
       "  </tbody>\n",
       "</table>\n",
       "</div>"
      ],
      "text/plain": [
       "       Country   Cases  Deaths  Recovered  Active Cases  Critical Cases\n",
       "0  Afghanistan  232152    7985     210164         14003               0"
      ]
     },
     "execution_count": 14,
     "metadata": {},
     "output_type": "execute_result"
    }
   ],
   "source": [
    "# 2.8) Country least suffering from covid ( least critical cases).\n",
    "def country_least_critical_cases(df):\n",
    "    country_least_critical_cases = df.orderBy(col(\"Critical Cases\")).first()\n",
    "    return pd.DataFrame([country_least_critical_cases.asDict()])\n",
    "\n",
    "print(\"Country least suffering from COVID (least critical cases):\", country_least_critical_cases(df)['Country'][0])\n",
    "country_least_critical_cases(df)\n"
   ]
  },
  {
   "cell_type": "code",
   "execution_count": 15,
   "metadata": {},
   "outputs": [
    {
     "name": "stdout",
     "output_type": "stream",
     "text": [
      "Country still suffering from COVID (highest critical cases): USA\n"
     ]
    },
    {
     "data": {
      "text/html": [
       "<div>\n",
       "<style scoped>\n",
       "    .dataframe tbody tr th:only-of-type {\n",
       "        vertical-align: middle;\n",
       "    }\n",
       "\n",
       "    .dataframe tbody tr th {\n",
       "        vertical-align: top;\n",
       "    }\n",
       "\n",
       "    .dataframe thead th {\n",
       "        text-align: right;\n",
       "    }\n",
       "</style>\n",
       "<table border=\"1\" class=\"dataframe\">\n",
       "  <thead>\n",
       "    <tr style=\"text-align: right;\">\n",
       "      <th></th>\n",
       "      <th>Country</th>\n",
       "      <th>Cases</th>\n",
       "      <th>Deaths</th>\n",
       "      <th>Recovered</th>\n",
       "      <th>Active Cases</th>\n",
       "      <th>Critical Cases</th>\n",
       "    </tr>\n",
       "  </thead>\n",
       "  <tbody>\n",
       "    <tr>\n",
       "      <th>0</th>\n",
       "      <td>USA</td>\n",
       "      <td>111769834</td>\n",
       "      <td>1218856</td>\n",
       "      <td>109712052</td>\n",
       "      <td>838926</td>\n",
       "      <td>1058</td>\n",
       "    </tr>\n",
       "  </tbody>\n",
       "</table>\n",
       "</div>"
      ],
      "text/plain": [
       "  Country      Cases   Deaths  Recovered  Active Cases  Critical Cases\n",
       "0     USA  111769834  1218856  109712052        838926            1058"
      ]
     },
     "execution_count": 15,
     "metadata": {},
     "output_type": "execute_result"
    }
   ],
   "source": [
    "# 2.9) Country still suffering from covid (highest critical cases).\n",
    "def country_highest_critical_cases(df):\n",
    "    country_highest_critical_cases = df.orderBy(col(\"Critical Cases\").desc()).first()\n",
    "    return pd.DataFrame([country_highest_critical_cases.asDict()])\n",
    "\n",
    "print(\"Country still suffering from COVID (highest critical cases):\", country_highest_critical_cases(df)['Country'][0])\n",
    "country_highest_critical_cases(df)"
   ]
  },
  {
   "cell_type": "code",
   "execution_count": 16,
   "metadata": {},
   "outputs": [
    {
     "name": "stdout",
     "output_type": "stream",
     "text": [
      "Starting server on port 8000...\n",
      "Visit http://localhost:8000/ to access the API links.\n"
     ]
    },
    {
     "name": "stderr",
     "output_type": "stream",
     "text": [
      "24/04/04 00:15:23 WARN GarbageCollectionMetrics: To enable non-built-in garbage collector(s) List(G1 Concurrent GC), users should configure it(them) to spark.eventLog.gcMetrics.youngGenerationGarbageCollectors or spark.eventLog.gcMetrics.oldGenerationGarbageCollectors\n",
      "127.0.0.1 - - [04/Apr/2024 00:16:44] \"GET / HTTP/1.1\" 200 -\n",
      "127.0.0.1 - - [04/Apr/2024 00:16:45] \"GET /get-covid-data HTTP/1.1\" 200 -\n"
     ]
    },
    {
     "name": "stdout",
     "output_type": "stream",
     "text": [
      "Server stopped.\n"
     ]
    }
   ],
   "source": [
    "# Restful APIs\n",
    "def handle_request(path):\n",
    "    if path == '/get-covid-data':\n",
    "        return pandas_covid_data\n",
    "    elif path == '/most-affected-country':\n",
    "        return most_affected_country(df)\n",
    "    elif path == '/least-affected-country':\n",
    "        return least_affected_country(df)\n",
    "    elif path == '/country-highest-cases':\n",
    "        return country_with_highest_cases(df)\n",
    "    elif path == '/country-minimum-cases':\n",
    "        return country_with_minimum_cases(df)\n",
    "    elif path == '/total-cases':\n",
    "        return total_cases(df)\n",
    "    elif path == '/most-efficient-country':\n",
    "        return most_efficient_country(df)\n",
    "    elif path == '/least-efficient-country':\n",
    "        return least_efficient_country(df)\n",
    "    elif path == '/country-least-critical-cases':\n",
    "        return country_least_critical_cases(df)\n",
    "    elif path == '/country-highest-critical-cases':\n",
    "        return country_highest_critical_cases(df)\n",
    "    else:\n",
    "        return None\n",
    "\n",
    "\n",
    "class RequestHandler(BaseHTTPRequestHandler):\n",
    "\n",
    "    def do_GET(self):\n",
    "        if self.path == '/':\n",
    "            # Send the HTML page\n",
    "            self.send_response(200)\n",
    "            self.send_header('Content-type', 'text/html')\n",
    "            self.end_headers()\n",
    "            with open('index.html', 'rb') as file:\n",
    "                self.wfile.write(file.read())\n",
    "        else:\n",
    "            data = handle_request(self.path)\n",
    "            if data is not None:\n",
    "                if isinstance(data, pd.DataFrame):\n",
    "                    response = data.to_json(orient='records')\n",
    "                    self.send_response(200)\n",
    "                    self.send_header('Content-type', 'application/json')\n",
    "                    self.end_headers()\n",
    "                    self.wfile.write(response.encode('utf-8'))\n",
    "                else:\n",
    "                    response = json.dumps(data)\n",
    "                    self.send_response(200)\n",
    "                    self.send_header('Content-type', 'application/json')\n",
    "                    self.end_headers()\n",
    "                    self.wfile.write(response.encode('utf-8'))\n",
    "            else:\n",
    "                self.send_response(404)\n",
    "                self.end_headers()\n",
    "                self.wfile.write(b'404 Not Found')\n",
    "\n",
    "\n",
    "def run_server():\n",
    "    server_address = ('', 8000)\n",
    "    httpd = HTTPServer(server_address, RequestHandler)\n",
    "    print('Starting server on port 8000...')\n",
    "    print('Visit http://localhost:8000/ to access the API links.')\n",
    "\n",
    "    try:\n",
    "        httpd.serve_forever()\n",
    "    except KeyboardInterrupt:\n",
    "        httpd.server_close()\n",
    "        print('Server stopped.')  \n",
    "\n",
    "if __name__ == '__main__':\n",
    "    run_server()\n"
   ]
  }
 ],
 "metadata": {
  "kernelspec": {
   "display_name": "Python 3",
   "language": "python",
   "name": "python3"
  },
  "language_info": {
   "codemirror_mode": {
    "name": "ipython",
    "version": 3
   },
   "file_extension": ".py",
   "mimetype": "text/x-python",
   "name": "python",
   "nbconvert_exporter": "python",
   "pygments_lexer": "ipython3",
   "version": "3.12.0"
  }
 },
 "nbformat": 4,
 "nbformat_minor": 2
}
