{
 "cells": [
  {
   "cell_type": "code",
   "execution_count": 6,
   "metadata": {},
   "outputs": [],
   "source": [
    "import requests\n",
    "import csv"
   ]
  },
  {
   "cell_type": "code",
   "execution_count": 9,
   "metadata": {},
   "outputs": [],
   "source": [
    "def fetch_country_data():\n",
    "    url = f'https://disease.sh/v3/covid-19/countries/'\n",
    "    response = requests.get(url)\n",
    "    if response.status_code == 200:\n",
    "        print(response.json)\n",
    "        return response.json()\n",
    "    else:\n",
    "        print(f\"Failed to fetch COVID-19 data. Status code:\", response.status_code)\n",
    "        return None\n",
    "# fetch_country_data()"
   ]
  },
  {
   "cell_type": "code",
   "execution_count": 10,
   "metadata": {},
   "outputs": [],
   "source": [
    "csv_file = 'covid_data_countries.csv'"
   ]
  },
  {
   "cell_type": "code",
   "execution_count": 11,
   "metadata": {},
   "outputs": [
    {
     "name": "stdout",
     "output_type": "stream",
     "text": [
      "<bound method Response.json of <Response [200]>>\n"
     ]
    }
   ],
   "source": [
    "# Open CSV file for writing\n",
    "with open(csv_file, 'w', newline='') as file:\n",
    "    writer = csv.writer(file)\n",
    "\n",
    "    # Write header row\n",
    "    writer.writerow(['Country', 'Cases', 'Deaths', 'Recovered', 'Active Cases', 'Critical Cases'])\n",
    "\n",
    "    countries_data = fetch_country_data()\n",
    "    # Iterate over countries and fetch data\n",
    "    for country_data in countries_data:\n",
    "        if country_data:\n",
    "            writer.writerow([country_data['country'], country_data['cases'], country_data['deaths'],\n",
    "                             country_data['recovered'], country_data['active'], country_data['critical']])\n"
   ]
  }
 ],
 "metadata": {
  "kernelspec": {
   "display_name": "Python 3",
   "language": "python",
   "name": "python3"
  },
  "language_info": {
   "codemirror_mode": {
    "name": "ipython",
    "version": 3
   },
   "file_extension": ".py",
   "mimetype": "text/x-python",
   "name": "python",
   "nbconvert_exporter": "python",
   "pygments_lexer": "ipython3",
   "version": "3.12.0"
  }
 },
 "nbformat": 4,
 "nbformat_minor": 2
}
